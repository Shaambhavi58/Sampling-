{
  "nbformat": 4,
  "nbformat_minor": 0,
  "metadata": {
    "colab": {
      "provenance": []
    },
    "kernelspec": {
      "name": "python3",
      "display_name": "Python 3"
    },
    "language_info": {
      "name": "python"
    }
  },
  "cells": [
    {
      "cell_type": "code",
      "execution_count": 1,
      "metadata": {
        "id": "IoVoQbj1Vzkg"
      },
      "outputs": [],
      "source": [
        "import pandas as pd\n",
        "import numpy as np\n",
        "from sklearn.model_selection import train_test_split\n",
        "from sklearn.metrics import accuracy_score\n",
        "from sklearn.linear_model import LogisticRegression\n",
        "from sklearn.tree import DecisionTreeClassifier\n",
        "from sklearn.ensemble import RandomForestClassifier, GradientBoostingClassifier\n",
        "from sklearn.svm import SVC\n",
        "from imblearn.over_sampling import SMOTE\n",
        "from imblearn.under_sampling import RandomUnderSampler\n",
        "from imblearn.combine import SMOTETomek\n",
        "from imblearn.under_sampling import TomekLinks, EditedNearestNeighbours\n"
      ]
    },
    {
      "cell_type": "code",
      "source": [
        "data = pd.read_csv(\"/content/Creditcard_data.csv\")\n",
        "print(\"Dataset loaded successfully.\")"
      ],
      "metadata": {
        "colab": {
          "base_uri": "https://localhost:8080/"
        },
        "id": "u2xxK_-AWjPw",
        "outputId": "585e54a2-53c4-4377-dfd3-7254926cb164"
      },
      "execution_count": 2,
      "outputs": [
        {
          "output_type": "stream",
          "name": "stdout",
          "text": [
            "Dataset loaded successfully.\n"
          ]
        }
      ]
    },
    {
      "cell_type": "code",
      "source": [
        "print(data['Class'].value_counts())\n"
      ],
      "metadata": {
        "colab": {
          "base_uri": "https://localhost:8080/"
        },
        "id": "NyW8-dpzWpXu",
        "outputId": "91adf2cc-997a-41e3-aae5-929584aeaedc"
      },
      "execution_count": 3,
      "outputs": [
        {
          "output_type": "stream",
          "name": "stdout",
          "text": [
            "Class\n",
            "0    763\n",
            "1      9\n",
            "Name: count, dtype: int64\n"
          ]
        }
      ]
    },
    {
      "cell_type": "code",
      "source": [
        "def balance_dataset(method, X, y):\n",
        "    if method == 'oversampling':\n",
        "        smote = SMOTE()\n",
        "        X_bal, y_bal = smote.fit_resample(X, y)\n",
        "    elif method == 'undersampling':\n",
        "        undersample = RandomUnderSampler()\n",
        "        X_bal, y_bal = undersample.fit_resample(X, y)\n",
        "    elif method == 'smote_tomek':\n",
        "        smote_tomek = SMOTETomek()\n",
        "        X_bal, y_bal = smote_tomek.fit_resample(X, y)\n",
        "    elif method == 'tomek_links':\n",
        "        tomek = TomekLinks()\n",
        "        X_bal, y_bal = tomek.fit_resample(X, y)\n",
        "    elif method == 'enn':\n",
        "        enn = EditedNearestNeighbours()\n",
        "        X_bal, y_bal = enn.fit_resample(X, y)\n",
        "    else:\n",
        "        raise ValueError(\"Invalid balancing method\")\n",
        "\n",
        "    return X_bal, y_bal\n"
      ],
      "metadata": {
        "id": "Uh8t_BTDWsss"
      },
      "execution_count": 4,
      "outputs": []
    },
    {
      "cell_type": "code",
      "source": [
        "X = data.drop(columns=['Class'])\n",
        "y = data['Class']"
      ],
      "metadata": {
        "id": "6vl403Q9WwPI"
      },
      "execution_count": 5,
      "outputs": []
    },
    {
      "cell_type": "code",
      "source": [
        "methods = ['oversampling', 'undersampling', 'smote_tomek', 'tomek_links', 'enn']\n",
        "samples = []\n"
      ],
      "metadata": {
        "id": "0jPUWQ-8WzQv"
      },
      "execution_count": 6,
      "outputs": []
    },
    {
      "cell_type": "code",
      "source": [
        "for method in methods:\n",
        "    X_bal, y_bal = balance_dataset(method, X, y)\n",
        "    samples.append((X_bal, y_bal))\n",
        "\n",
        "print(\"Data balancing completed.\")\n"
      ],
      "metadata": {
        "colab": {
          "base_uri": "https://localhost:8080/"
        },
        "id": "375RuKpIW2Nz",
        "outputId": "f8a93284-e770-412c-c68c-1652589470f5"
      },
      "execution_count": 7,
      "outputs": [
        {
          "output_type": "stream",
          "name": "stdout",
          "text": [
            "Data balancing completed.\n"
          ]
        }
      ]
    },
    {
      "cell_type": "code",
      "source": [
        "models = {\n",
        "    'Logistic Regression': LogisticRegression(),\n",
        "    'Decision Tree': DecisionTreeClassifier(),\n",
        "    'Random Forest': RandomForestClassifier(),\n",
        "    'SVM': SVC(),\n",
        "    'Gradient Boosting': GradientBoostingClassifier()\n",
        "}\n",
        "\n",
        "results = []"
      ],
      "metadata": {
        "id": "O5p4RinQXEOM"
      },
      "execution_count": 9,
      "outputs": []
    },
    {
      "cell_type": "code",
      "source": [
        "for i, (X_sample, y_sample) in enumerate(samples):\n",
        "    X_train, X_test, y_train, y_test = train_test_split(X_sample, y_sample, test_size=0.3, random_state=42)\n",
        "\n",
        "    for model_name, model in models.items():\n",
        "        model.fit(X_train, y_train)\n",
        "        y_pred = model.predict(X_test)\n",
        "        accuracy = accuracy_score(y_test, y_pred)\n",
        "        results.append({\n",
        "            'Sampling Technique': methods[i],\n",
        "            'Model': model_name,\n",
        "            'Accuracy': accuracy\n",
        "        })"
      ],
      "metadata": {
        "colab": {
          "base_uri": "https://localhost:8080/"
        },
        "id": "AL3EXna0XHTi",
        "outputId": "bad67038-cc8a-42ff-8f1f-72b2de894624"
      },
      "execution_count": 10,
      "outputs": [
        {
          "output_type": "stream",
          "name": "stderr",
          "text": [
            "/usr/local/lib/python3.11/dist-packages/sklearn/linear_model/_logistic.py:465: ConvergenceWarning: lbfgs failed to converge (status=1):\n",
            "STOP: TOTAL NO. of ITERATIONS REACHED LIMIT.\n",
            "\n",
            "Increase the number of iterations (max_iter) or scale the data as shown in:\n",
            "    https://scikit-learn.org/stable/modules/preprocessing.html\n",
            "Please also refer to the documentation for alternative solver options:\n",
            "    https://scikit-learn.org/stable/modules/linear_model.html#logistic-regression\n",
            "  n_iter_i = _check_optimize_result(\n",
            "/usr/local/lib/python3.11/dist-packages/sklearn/linear_model/_logistic.py:465: ConvergenceWarning: lbfgs failed to converge (status=1):\n",
            "STOP: TOTAL NO. of ITERATIONS REACHED LIMIT.\n",
            "\n",
            "Increase the number of iterations (max_iter) or scale the data as shown in:\n",
            "    https://scikit-learn.org/stable/modules/preprocessing.html\n",
            "Please also refer to the documentation for alternative solver options:\n",
            "    https://scikit-learn.org/stable/modules/linear_model.html#logistic-regression\n",
            "  n_iter_i = _check_optimize_result(\n",
            "/usr/local/lib/python3.11/dist-packages/sklearn/linear_model/_logistic.py:465: ConvergenceWarning: lbfgs failed to converge (status=1):\n",
            "STOP: TOTAL NO. of ITERATIONS REACHED LIMIT.\n",
            "\n",
            "Increase the number of iterations (max_iter) or scale the data as shown in:\n",
            "    https://scikit-learn.org/stable/modules/preprocessing.html\n",
            "Please also refer to the documentation for alternative solver options:\n",
            "    https://scikit-learn.org/stable/modules/linear_model.html#logistic-regression\n",
            "  n_iter_i = _check_optimize_result(\n",
            "/usr/local/lib/python3.11/dist-packages/sklearn/linear_model/_logistic.py:465: ConvergenceWarning: lbfgs failed to converge (status=1):\n",
            "STOP: TOTAL NO. of ITERATIONS REACHED LIMIT.\n",
            "\n",
            "Increase the number of iterations (max_iter) or scale the data as shown in:\n",
            "    https://scikit-learn.org/stable/modules/preprocessing.html\n",
            "Please also refer to the documentation for alternative solver options:\n",
            "    https://scikit-learn.org/stable/modules/linear_model.html#logistic-regression\n",
            "  n_iter_i = _check_optimize_result(\n",
            "/usr/local/lib/python3.11/dist-packages/sklearn/linear_model/_logistic.py:465: ConvergenceWarning: lbfgs failed to converge (status=1):\n",
            "STOP: TOTAL NO. of ITERATIONS REACHED LIMIT.\n",
            "\n",
            "Increase the number of iterations (max_iter) or scale the data as shown in:\n",
            "    https://scikit-learn.org/stable/modules/preprocessing.html\n",
            "Please also refer to the documentation for alternative solver options:\n",
            "    https://scikit-learn.org/stable/modules/linear_model.html#logistic-regression\n",
            "  n_iter_i = _check_optimize_result(\n"
          ]
        }
      ]
    },
    {
      "cell_type": "code",
      "source": [
        "results_df = pd.DataFrame(results)\n",
        "print(\"\\nResults:\\n\")\n",
        "print(results_df)"
      ],
      "metadata": {
        "colab": {
          "base_uri": "https://localhost:8080/"
        },
        "id": "0dL-ZNZcXhyq",
        "outputId": "42df235f-3400-49db-e81c-5b91b2a79a9c"
      },
      "execution_count": 11,
      "outputs": [
        {
          "output_type": "stream",
          "name": "stdout",
          "text": [
            "\n",
            "Results:\n",
            "\n",
            "   Sampling Technique                Model  Accuracy\n",
            "0        oversampling  Logistic Regression  0.925764\n",
            "1        oversampling        Decision Tree  0.967249\n",
            "2        oversampling        Random Forest  0.989083\n",
            "3        oversampling                  SVM  0.707424\n",
            "4        oversampling    Gradient Boosting  0.982533\n",
            "5       undersampling  Logistic Regression  0.333333\n",
            "6       undersampling        Decision Tree  0.166667\n",
            "7       undersampling        Random Forest  0.166667\n",
            "8       undersampling                  SVM  0.166667\n",
            "9       undersampling    Gradient Boosting  0.166667\n",
            "10        smote_tomek  Logistic Regression  0.889640\n",
            "11        smote_tomek        Decision Tree  0.975225\n",
            "12        smote_tomek        Random Forest  0.997748\n",
            "13        smote_tomek                  SVM  0.650901\n",
            "14        smote_tomek    Gradient Boosting  0.986486\n",
            "15        tomek_links  Logistic Regression  0.986957\n",
            "16        tomek_links        Decision Tree  0.986957\n",
            "17        tomek_links        Random Forest  0.986957\n",
            "18        tomek_links                  SVM  0.986957\n",
            "19        tomek_links    Gradient Boosting  0.986957\n",
            "20                enn  Logistic Regression  0.986726\n",
            "21                enn        Decision Tree  0.986726\n",
            "22                enn        Random Forest  0.986726\n",
            "23                enn                  SVM  0.986726\n",
            "24                enn    Gradient Boosting  0.986726\n"
          ]
        }
      ]
    },
    {
      "cell_type": "code",
      "source": [
        "results_df.to_csv(\"sampling_results.csv\", index=False)\n",
        "print(\"Results saved to 'sampling_results.csv'.\")"
      ],
      "metadata": {
        "colab": {
          "base_uri": "https://localhost:8080/"
        },
        "id": "Bd1558tJXlUc",
        "outputId": "c3c4c283-8163-42f7-d5cc-fb9017db1d9c"
      },
      "execution_count": 13,
      "outputs": [
        {
          "output_type": "stream",
          "name": "stdout",
          "text": [
            "Results saved to 'sampling_results.csv'.\n"
          ]
        }
      ]
    }
  ]
}